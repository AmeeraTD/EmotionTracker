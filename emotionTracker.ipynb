{
 "cells": [
  {
   "cell_type": "code",
   "execution_count": 8,
   "metadata": {},
   "outputs": [
    {
     "name": "stdout",
     "output_type": "stream",
     "text": [
      "Accuracy: 0.7390625\n",
      "\n",
      "Report:\n",
      "               precision    recall  f1-score   support\n",
      "\n",
      "       anger       0.90      0.56      0.69       427\n",
      "        fear       0.85      0.50      0.63       397\n",
      "         joy       0.69      0.97      0.80      1021\n",
      "        love       0.92      0.16      0.28       296\n",
      "     sadness       0.74      0.94      0.83       946\n",
      "    surprise       1.00      0.04      0.07       113\n",
      "\n",
      "    accuracy                           0.74      3200\n",
      "   macro avg       0.85      0.53      0.55      3200\n",
      "weighted avg       0.78      0.74      0.70      3200\n",
      "\n",
      "joy\n"
     ]
    }
   ],
   "source": [
    "import pandas as pd\n",
    "\n",
    "# Load semicolon-separated file\n",
    "df = pd.read_csv('data/train.txt', sep=';', names=[\"text\", \"label\"])\n",
    "\n",
    "# Check first few rows\n",
    "#print(df.head())\n",
    "\n",
    "from sklearn.model_selection import train_test_split\n",
    "from sklearn.feature_extraction.text import CountVectorizer\n",
    "\n",
    "# Features and labels\n",
    "X = df['text']\n",
    "y = df['label']\n",
    "\n",
    "# Split into train/test\n",
    "X_train, X_test, y_train, y_test = train_test_split(X, y, test_size=0.2, random_state=42)\n",
    "\n",
    "# Convert text to vectors\n",
    "vectorizer = CountVectorizer()\n",
    "X_train_vec = vectorizer.fit_transform(X_train)\n",
    "X_test_vec = vectorizer.transform(X_test)\n",
    "\n",
    "from sklearn.naive_bayes import MultinomialNB\n",
    "\n",
    "# Train model\n",
    "model = MultinomialNB()\n",
    "model.fit(X_train_vec, y_train)\n",
    "\n",
    "from sklearn.metrics import accuracy_score, classification_report\n",
    "\n",
    "y_pred = model.predict(X_test_vec)\n",
    "print(\"Accuracy:\", accuracy_score(y_test, y_pred))\n",
    "print(\"\\nReport:\\n\", classification_report(y_test, y_pred))\n",
    "\n",
    "def predict_emotion(sentence):\n",
    "    vec = vectorizer.transform([sentence])\n",
    "    return model.predict(vec)[0]\n",
    "\n",
    "print(predict_emotion(\"wow i m over the moon\"))\n",
    "\n",
    "\n"
   ]
  }
 ],
 "metadata": {
  "kernelspec": {
   "display_name": "venv",
   "language": "python",
   "name": "python3"
  },
  "language_info": {
   "codemirror_mode": {
    "name": "ipython",
    "version": 3
   },
   "file_extension": ".py",
   "mimetype": "text/x-python",
   "name": "python",
   "nbconvert_exporter": "python",
   "pygments_lexer": "ipython3",
   "version": "3.10.5"
  }
 },
 "nbformat": 4,
 "nbformat_minor": 2
}
